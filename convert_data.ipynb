{
 "cells": [
  {
   "cell_type": "code",
   "execution_count": null,
   "metadata": {},
   "outputs": [],
   "source": [
    "# import libraries\n",
    "import os\n",
    "import sys\n",
    "import shutil\n",
    "import pandas as pd\n",
    "from shutil import copyfile"
   ]
  },
  {
   "cell_type": "code",
   "execution_count": null,
   "metadata": {},
   "outputs": [],
   "source": [
    "path = os.getcwd() + '/data/train_set/'"
   ]
  },
  {
   "cell_type": "code",
   "execution_count": null,
   "metadata": {},
   "outputs": [],
   "source": [
    "# create the folder\n",
    "try:\n",
    "    print(\"Removing folder\")\n",
    "    shutil.rmtree(path+'train')\n",
    "    print(\"Creating new folder\")\n",
    "    os.mkdir(path+'train')\n",
    "except FileNotFoundError:\n",
    "    print(\"Creating new folder\")\n",
    "    os.mkdir(path+'train')\n"
   ]
  },
  {
   "cell_type": "code",
   "execution_count": null,
   "metadata": {},
   "outputs": [],
   "source": [
    "# add classes as subfolders\n",
    "labels = 80\n",
    "\n",
    "for i in range(1, labels+1):\n",
    "    try:\n",
    "        shutil.rmtree(path+'train/'+str(i))\n",
    "        os.mkdir(path+'train/'+str(i))\n",
    "    except FileNotFoundError:\n",
    "        os.mkdir(path+'train/'+str(i))\n",
    "    "
   ]
  },
  {
   "cell_type": "code",
   "execution_count": null,
   "metadata": {},
   "outputs": [],
   "source": [
    "train_path = os.getcwd() +'/data/train_set/train_set/'\n",
    "train_labels = os.getcwd() +'/data/train_labels.csv'\n",
    "df = pd.read_csv(train_labels)"
   ]
  },
  {
   "cell_type": "code",
   "execution_count": null,
   "metadata": {},
   "outputs": [],
   "source": [
    "# loop through the images and add them to ther classes\n",
    "nr_files = len(os.listdir(train_path))\n",
    "nr = 0\n",
    "for filename in os.listdir(train_path):\n",
    "    row = df.loc[df['img_name'] == filename]\n",
    "    src = train_path+filename\n",
    "    dst = os.getcwd() + '/data/train_set/'+'train/'+ str(int(row['label'])) +'/'+filename\n",
    "    \n",
    "    copyfile(src, dst)\n",
    "    \n",
    "    # Print progress\n",
    "    print('% Converted: ', (nr+1)/nr_files, end='\\r')\n",
    "    nr += 1\n",
    "  \n"
   ]
  }
 ],
 "metadata": {
  "kernelspec": {
   "display_name": "Python 3",
   "language": "python",
   "name": "python3"
  },
  "language_info": {
   "codemirror_mode": {
    "name": "ipython",
    "version": 3
   },
   "file_extension": ".py",
   "mimetype": "text/x-python",
   "name": "python",
   "nbconvert_exporter": "python",
   "pygments_lexer": "ipython3",
   "version": "3.8.3"
  }
 },
 "nbformat": 4,
 "nbformat_minor": 4
}
